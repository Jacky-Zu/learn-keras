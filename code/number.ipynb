{
 "cells": [
  {
   "cell_type": "code",
   "execution_count": 1,
   "source": [
    "import keras\r\n",
    "print(keras.__version__)"
   ],
   "outputs": [
    {
     "output_type": "stream",
     "name": "stdout",
     "text": [
      "2.5.0\n"
     ]
    }
   ],
   "metadata": {}
  },
  {
   "cell_type": "code",
   "execution_count": 2,
   "source": [
    "import numpy as np\r\n",
    "import matplotlib.pyplot as plt\r\n",
    "\r\n",
    "from keras.models import Sequential, Model\r\n",
    "from tensorflow.keras.utils import to_categorical\r\n",
    "\r\n",
    "from keras.layers import Dense,Input,Embedding,LSTM\r\n",
    "from keras.layers import Conv2D,MaxPool2D\r\n",
    "from keras.layers import Activation,Flatten"
   ],
   "outputs": [],
   "metadata": {}
  },
  {
   "cell_type": "markdown",
   "source": [
    "## 整体流程\r\n",
    "![Aaron Swartz](https://github.com/Jacky-Zu/learn-keras/raw/main/flow.png)\r\n"
   ],
   "metadata": {}
  },
  {
   "cell_type": "markdown",
   "source": [
    "## 构建网络"
   ],
   "metadata": {}
  },
  {
   "cell_type": "code",
   "execution_count": 3,
   "source": [
    "model = Sequential()"
   ],
   "outputs": [],
   "metadata": {}
  },
  {
   "cell_type": "code",
   "execution_count": 4,
   "source": [
    "model.add(Dense(units=784,activation='relu',input_dim=784))\r\n",
    "# 784输入，784输出，激活函数使用relu"
   ],
   "outputs": [],
   "metadata": {}
  },
  {
   "cell_type": "code",
   "execution_count": 5,
   "source": [
    "model.add(Dense(units=10,activation='softmax'))\r\n",
    "# 在此基础上为model添加10个输出的输出层，激活函数使用softmax"
   ],
   "outputs": [],
   "metadata": {}
  },
  {
   "cell_type": "code",
   "execution_count": 6,
   "source": [
    "model.summary()  # 通过.summary()查看模型参数情况"
   ],
   "outputs": [
    {
     "output_type": "stream",
     "name": "stdout",
     "text": [
      "Model: \"sequential\"\n",
      "_________________________________________________________________\n",
      "Layer (type)                 Output Shape              Param #   \n",
      "=================================================================\n",
      "dense (Dense)                (None, 784)               615440    \n",
      "_________________________________________________________________\n",
      "dense_1 (Dense)              (None, 10)                7850      \n",
      "=================================================================\n",
      "Total params: 623,290\n",
      "Trainable params: 623,290\n",
      "Non-trainable params: 0\n",
      "_________________________________________________________________\n"
     ]
    }
   ],
   "metadata": {}
  },
  {
   "cell_type": "markdown",
   "source": [
    "## 编译模型"
   ],
   "metadata": {}
  },
  {
   "cell_type": "code",
   "execution_count": 7,
   "source": [
    "model.compile(loss='categorical_crossentropy',optimizer='sgd',metrics=['accuracy'])\r\n",
    "# 代价函数，优化算法，性能指标"
   ],
   "outputs": [],
   "metadata": {}
  },
  {
   "cell_type": "markdown",
   "source": [
    "## 训练"
   ],
   "metadata": {}
  },
  {
   "cell_type": "code",
   "execution_count": 8,
   "source": [
    "f = np.load('mnist.npz')\r\n",
    "x_train, y_train = f['x_train'], f['y_train']\r\n",
    "x_test, y_test = f['x_test'], f['y_test']\r\n",
    "f.close()\r\n",
    "print(x_train.shape)\r\n",
    "print(x_test.shape)\r\n",
    "print(y_train.shape)\r\n",
    "print(y_test.shape)\r\n",
    "\r\n",
    "# 可视化\r\n",
    "fig = plt.figure(figsize=(20,20))\r\n",
    "for i in range(6):\r\n",
    "    ax = fig.add_subplot(1, 6, i+1, xticks=[], yticks=[])\r\n",
    "    ax.imshow(x_train[i], cmap= 'gray')\r\n",
    "    ax.set_title(str(y_train[i]))\r\n",
    "\r\n",
    "# 归一化\r\n",
    "x_train = x_train/255\r\n",
    "x_test = x_test/255\r\n",
    "\r\n",
    "x_train = x_train.reshape(-1,784)\r\n",
    "x_test = x_test.reshape(-1,784)"
   ],
   "outputs": [
    {
     "output_type": "stream",
     "name": "stdout",
     "text": [
      "(60000, 28, 28)\n",
      "(10000, 28, 28)\n",
      "(60000,)\n",
      "(10000,)\n"
     ]
    },
    {
     "output_type": "display_data",
     "data": {
      "text/plain": [
       "<Figure size 1440x1440 with 6 Axes>"
      ],
      "image/png": "[encoded data removed]"
     },
     "metadata": {}
    }
   ],
   "metadata": {}
  },
  {
   "cell_type": "code",
   "execution_count": 9,
   "source": [
    "y_train = to_categorical(y_train)\r\n",
    "y_test = to_categorical(y_test)"
   ],
   "outputs": [],
   "metadata": {}
  },
  {
   "cell_type": "code",
   "execution_count": 10,
   "source": [
    "model.fit(x_train,y_train,epochs=5,batch_size=32) # 训练"
   ],
   "outputs": [
    {
     "output_type": "stream",
     "name": "stdout",
     "text": [
      "Epoch 1/5\n",
      "1875/1875 [==============================] - 27s 5ms/step - loss: 0.9530 - accuracy: 0.7723\n",
      "Epoch 2/5\n",
      "1875/1875 [==============================] - 9s 5ms/step - loss: 0.3283 - accuracy: 0.9092\n",
      "Epoch 3/5\n",
      "1875/1875 [==============================] - 9s 5ms/step - loss: 0.2758 - accuracy: 0.9232\n",
      "Epoch 4/5\n",
      "1875/1875 [==============================] - 9s 5ms/step - loss: 0.2408 - accuracy: 0.9329\n",
      "Epoch 5/5\n",
      "1875/1875 [==============================] - 9s 5ms/step - loss: 0.2170 - accuracy: 0.9403\n"
     ]
    },
    {
     "output_type": "execute_result",
     "data": {
      "text/plain": [
       "<keras.callbacks.History at 0x16df156bcc8>"
      ]
     },
     "metadata": {},
     "execution_count": 10
    }
   ],
   "metadata": {}
  },
  {
   "cell_type": "code",
   "execution_count": 11,
   "source": [
    "score = model.evaluate(x_test,y_test,batch_size=128)  # 评价\r\n",
    "print(\"loss：\",score[0])\r\n",
    "print(\"accu：\",score[1])"
   ],
   "outputs": [
    {
     "output_type": "stream",
     "name": "stdout",
     "text": [
      "79/79 [==============================] - 1s 4ms/step - loss: 0.2023 - accuracy: 0.9422\n",
      "loss： 0.20233261585235596\n",
      "accu： 0.9422000050544739\n"
     ]
    }
   ],
   "metadata": {}
  },
  {
   "cell_type": "markdown",
   "source": [
    "## 预测"
   ],
   "metadata": {}
  },
  {
   "cell_type": "code",
   "execution_count": 13,
   "source": [
    "np.argmax(model.predict(x_test,batch_size=128), axis=-1)  # 预测"
   ],
   "outputs": [
    {
     "output_type": "execute_result",
     "data": {
      "text/plain": [
       "array([7, 2, 1, ..., 4, 5, 6], dtype=int64)"
      ]
     },
     "metadata": {},
     "execution_count": 13
    }
   ],
   "metadata": {}
  },
  {
   "cell_type": "code",
   "execution_count": null,
   "source": [],
   "outputs": [],
   "metadata": {}
  }
 ],
 "metadata": {
  "orig_nbformat": 4,
  "language_info": {
   "name": "python",
   "version": "3.7.10",
   "mimetype": "text/x-python",
   "codemirror_mode": {
    "name": "ipython",
    "version": 3
   },
   "pygments_lexer": "ipython3",
   "nbconvert_exporter": "python",
   "file_extension": ".py"
  },
  "kernelspec": {
   "name": "python3",
   "display_name": "Python 3.7.10 64-bit ('base': conda)"
  },
  "interpreter": {
   "hash": "83508d0edd7d9a393e0315056e74e7c645d290c5d7a9abc971d29516a28499d8"
  }
 },
 "nbformat": 4,
 "nbformat_minor": 2
}